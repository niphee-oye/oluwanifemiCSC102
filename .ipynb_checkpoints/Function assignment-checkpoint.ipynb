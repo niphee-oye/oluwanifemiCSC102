{
 "cells": [
  {
   "cell_type": "markdown",
   "metadata": {},
   "source": [
    "# (1) *Shutdown Program*"
   ]
  },
  {
   "cell_type": "code",
   "execution_count": 11,
   "metadata": {},
   "outputs": [
    {
     "name": "stdout",
     "output_type": "stream",
     "text": [
      "Should system shutdown?  Yes\n",
      "Shutting down\n"
     ]
    }
   ],
   "source": [
    "def shut_down(l):\n",
    "    if l == \"yes\":\n",
    "        print(\"Shutting down\")\n",
    "    elif l == \"Yes\":\n",
    "        print(\"Shutting down\")\n",
    "    elif l == \"no\":\n",
    "        print(\"Shutdown aborted\")\n",
    "    elif l == \"No\":\n",
    "        print(\"Shutdown aborted\")\n",
    "    else:\n",
    "        print(\"Sorry such argument is not welcome\")\n",
    "        \n",
    "shut_down(input(\"Should system shutdown?  \"))"
   ]
  },
  {
   "cell_type": "markdown",
   "metadata": {},
   "source": [
    "# (2) _Employee problem_"
   ]
  },
  {
   "cell_type": "code",
   "execution_count": null,
   "metadata": {},
   "outputs": [],
   "source": []
  },
  {
   "cell_type": "markdown",
   "metadata": {},
   "source": [
    "# (3) _Cube problem_"
   ]
  },
  {
   "cell_type": "code",
   "execution_count": 47,
   "metadata": {},
   "outputs": [
    {
     "name": "stdout",
     "output_type": "stream",
     "text": [
      "What? 3\n"
     ]
    },
    {
     "data": {
      "text/plain": [
       "27"
      ]
     },
     "execution_count": 47,
     "metadata": {},
     "output_type": "execute_result"
    }
   ],
   "source": [
    "def cube(number):\n",
    "    x = number**3\n",
    "    return x\n",
    "cube(eval(input(\"What? \")))"
   ]
  },
  {
   "cell_type": "markdown",
   "metadata": {},
   "source": [
    "# (4) _Case calculator_"
   ]
  },
  {
   "cell_type": "code",
   "execution_count": 70,
   "metadata": {},
   "outputs": [
    {
     "name": "stdout",
     "output_type": "stream",
     "text": [
      "Input string to be analysed:dtfyguhiRXTCFYVGUBHIJ\n",
      "Upper case letters >> 13\n",
      "Lower case letters >> 8\n"
     ]
    }
   ],
   "source": [
    "def calc(o):\n",
    "    count1 = 0\n",
    "    count2 = 0\n",
    "    for a in o:\n",
    "        if (a.isupper()) == True:\n",
    "            count1 += 1\n",
    "        elif (a.islower()) == True:\n",
    "            count2 += 1\n",
    "    print(\"Upper case letters >>\", count1)\n",
    "    print(\"Lower case letters >>\", count2)\n",
    " \n",
    "calc(input(\"Input string to be analysed:\"))"
   ]
  },
  {
   "cell_type": "code",
   "execution_count": null,
   "metadata": {},
   "outputs": [],
   "source": []
  }
 ],
 "metadata": {
  "kernelspec": {
   "display_name": "Python 3",
   "language": "python",
   "name": "python3"
  },
  "language_info": {
   "codemirror_mode": {
    "name": "ipython",
    "version": 3
   },
   "file_extension": ".py",
   "mimetype": "text/x-python",
   "name": "python",
   "nbconvert_exporter": "python",
   "pygments_lexer": "ipython3",
   "version": "3.8.5"
  }
 },
 "nbformat": 4,
 "nbformat_minor": 4
}
