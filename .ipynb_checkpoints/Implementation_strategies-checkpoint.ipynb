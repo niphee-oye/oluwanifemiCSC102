{
 "cells": [
  {
   "cell_type": "code",
   "execution_count": 1,
   "metadata": {},
   "outputs": [
    {
     "name": "stdout",
     "output_type": "stream",
     "text": [
      "10\n",
      "20\n",
      "30\n",
      "40\n",
      "50\n"
     ]
    }
   ],
   "source": [
    "# Print the given sequence of numbers using \"for\" loop\n",
    "count = [10, 20, 30, 40, 50]\n",
    "for num in count:\n",
    "    print(num)"
   ]
  },
  {
   "cell_type": "code",
   "execution_count": 12,
   "metadata": {},
   "outputs": [
    {
     "name": "stdout",
     "output_type": "stream",
     "text": [
      "10\n",
      "20\n",
      "30\n",
      "40\n"
     ]
    }
   ],
   "source": [
    "# Print multiples of 10 for given range of values\n",
    "for x in range(5):\n",
    "    if x > 0:\n",
    "        print(x * 10)"
   ]
  },
  {
   "cell_type": "code",
   "execution_count": 13,
   "metadata": {},
   "outputs": [
    {
     "name": "stdout",
     "output_type": "stream",
     "text": [
      "1\n",
      "2\n",
      "3\n",
      "4\n",
      "5\n"
     ]
    }
   ],
   "source": [
    "# Print first natural numbers using while loop\n",
    "count = 1\n",
    "while count <= 5:\n",
    "    print(count)\n",
    "    count += 1"
   ]
  },
  {
   "cell_type": "code",
   "execution_count": 4,
   "metadata": {},
   "outputs": [
    {
     "name": "stdout",
     "output_type": "stream",
     "text": [
      "Enter numbers to find their sum, negative number ends the loop\n",
      "3\n",
      "4\n",
      "5\n",
      "4\n",
      "-3\n",
      "Sum = 16\n"
     ]
    }
   ],
   "source": [
    "# To find the sum of all positive numbers entered by the user,and terminate the operation once a negative number is entered\n",
    "entry = 0\n",
    "sum1 = 0\n",
    "print(\"Enter numbers to find their sum, negative number ends the loop\")\n",
    "while True:\n",
    "    #int() typecasts string to integer\n",
    "    entry = int(input())\n",
    "    if (entry < 0):\n",
    "        break\n",
    "    sum1 += entry\n",
    "print(\"Sum =\", sum1)"
   ]
  },
  {
   "cell_type": "code",
   "execution_count": 6,
   "metadata": {},
   "outputs": [
    {
     "name": "stdout",
     "output_type": "stream",
     "text": [
      "Num has value1\n",
      "Num has value2\n",
      "Num has value4\n",
      "Num has value5\n",
      "Num has value6\n",
      "End of loop\n"
     ]
    }
   ],
   "source": [
    "num = 0\n",
    "for num in range(6):\n",
    "    num = num + 1\n",
    "    if num ==3:\n",
    "        continue\n",
    "    print('Num has value' + str(num))\n",
    "print('End of loop')"
   ]
  },
  {
   "cell_type": "code",
   "execution_count": 8,
   "metadata": {},
   "outputs": [
    {
     "name": "stdout",
     "output_type": "stream",
     "text": [
      "Iteration1of outer loop\n",
      "1\n",
      "2\n",
      "Out of inner loop\n",
      "Iteration2of outer loop\n",
      "1\n",
      "2\n",
      "Out of inner loop\n",
      "Iteration3of outer loop\n",
      "1\n",
      "2\n",
      "Out of inner loop\n",
      "Out of outer loop\n"
     ]
    }
   ],
   "source": [
    "for var1 in range(3):\n",
    "    print(\"Iteration\" + str(var1 + 1) + \"of outer loop\")\n",
    "    for var2 in range(2): #nested loop\n",
    "        print(var2 + 1)\n",
    "    print(\"Out of inner loop\")\n",
    "print(\"Out of outer loop\")"
   ]
  },
  {
   "cell_type": "code",
   "execution_count": 1,
   "metadata": {},
   "outputs": [
    {
     "name": "stdout",
     "output_type": "stream",
     "text": [
      "Enter a number to generate its pattern = 10\n",
      "1 \n",
      "1 2 \n",
      "1 2 3 \n",
      "1 2 3 4 \n",
      "1 2 3 4 5 \n",
      "1 2 3 4 5 6 \n",
      "1 2 3 4 5 6 7 \n",
      "1 2 3 4 5 6 7 8 \n",
      "1 2 3 4 5 6 7 8 9 \n",
      "1 2 3 4 5 6 7 8 9 10 \n"
     ]
    }
   ],
   "source": [
    "#The output pattern to be generated is\n",
    "#1\n",
    "#12\n",
    "#123\n",
    "#1234\n",
    "#12345\n",
    "num = int(input(\"Enter a number to generate its pattern = \"))\n",
    "for i in range(1,num + 1):\n",
    "    for j in range(1,i + 1):\n",
    "        print(j, end = \" \")\n",
    "    print()"
   ]
  },
  {
   "cell_type": "code",
   "execution_count": 2,
   "metadata": {},
   "outputs": [
    {
     "name": "stdout",
     "output_type": "stream",
     "text": [
      "2 is a prime number\n",
      "3 is a prime number\n",
      "5 is a prime number\n",
      "7 is a prime number\n",
      "11 is a prime number\n",
      "13 is a prime number\n",
      "17 is a prime number\n",
      "19 is a prime number\n",
      "23 is a prime number\n",
      "29 is a prime number\n",
      "31 is a prime number\n",
      "37 is a prime number\n",
      "41 is a prime number\n",
      "43 is a prime number\n",
      "47 is a prime number\n",
      "Bye Bye!!\n"
     ]
    }
   ],
   "source": [
    "#Use of nested loops to find the prime numbers between 2 and 50\n",
    "num = 2\n",
    "for i in range(2, 50):\n",
    "    j = 2\n",
    "    while (j <= (i/2)):\n",
    "        if (i % j == 0): #factor found\n",
    "            break #break out of while loop\n",
    "        j += 1\n",
    "    if (j > i/j): #no factor found\n",
    "        print(i, \"is a prime number\")\n",
    "print (\"Bye Bye!!\")"
   ]
  },
  {
   "cell_type": "code",
   "execution_count": 1,
   "metadata": {},
   "outputs": [
    {
     "name": "stdout",
     "output_type": "stream",
     "text": [
      "Enter a number: 5\n",
      "factorial of  5 is 120\n"
     ]
    }
   ],
   "source": [
    "# The following program uses a for loop nested inside an if ... else\n",
    "#block to calculate the factorial of a given number\n",
    "num = int(input(\"Enter a number: \"))\n",
    "fact = 1\n",
    "#Check if the number is positive, negative or zero\n",
    "if num < 0:\n",
    "    print(\"Sorry, factorial does not exist for negative numbers\")\n",
    "elif num == 0:\n",
    "    print(\"The factorial of zero is 1\")\n",
    "else:\n",
    "    for i in range(1, num + 1):\n",
    "        fact = fact * i\n",
    "    print(\"factorial of \", num, \"is\", fact)"
   ]
  },
  {
   "cell_type": "code",
   "execution_count": 3,
   "metadata": {},
   "outputs": [
    {
     "name": "stdout",
     "output_type": "stream",
     "text": [
      "Enter the number to be checked: 20\n",
      "20 is not a prime number\n"
     ]
    }
   ],
   "source": [
    "# A program to check if a number is prime or not\n",
    "num = int(input(\"Enter the number to be checked: \"))\n",
    "flag = 0 #presume num is a prime number\n",
    "if num > 1:\n",
    "    for i in range(2, int(num / 2)):\n",
    "        if (num % i == 0):\n",
    "            flag = 1 #num is not a prime number \n",
    "            break #no need to check any further\n",
    "    if flag == 1 :\n",
    "        print(num, \"is not a prime number\")\n",
    "    else:\n",
    "        print(num, \"is a prime number\")\n",
    "else:\n",
    "    print(\"Entered number is <= 1, execute again\")"
   ]
  },
  {
   "cell_type": "code",
   "execution_count": 6,
   "metadata": {},
   "outputs": [
    {
     "name": "stdout",
     "output_type": "stream",
     "text": [
      "Enter a number to find its factor: 7\n",
      "1 7 "
     ]
    }
   ],
   "source": [
    "# To find the factors of a whole number using while loop \n",
    "\n",
    "num = int(input(\"Enter a number to find its factor: \"))\n",
    "print(1, end = ' ') #1 is a factor of every number\n",
    "factor = 2\n",
    "while factor <= num/2 :\n",
    "    if num % factor == 0:\n",
    "#the optional parameter end of print function specifies the \n",
    "#delimeter blank space (' ') to print next value o same line\n",
    "        print (factor, end = ' ')\n",
    "    factor += 1\n",
    "print (num, end = ' ') #every number is a factor of itself"
   ]
  }
 ],
 "metadata": {
  "kernelspec": {
   "display_name": "Python 3",
   "language": "python",
   "name": "python3"
  },
  "language_info": {
   "codemirror_mode": {
    "name": "ipython",
    "version": 3
   },
   "file_extension": ".py",
   "mimetype": "text/x-python",
   "name": "python",
   "nbconvert_exporter": "python",
   "pygments_lexer": "ipython3",
   "version": "3.8.5"
  }
 },
 "nbformat": 4,
 "nbformat_minor": 4
}
