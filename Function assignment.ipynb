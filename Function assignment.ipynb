{
 "cells": [
  {
   "cell_type": "markdown",
   "metadata": {},
   "source": [
    "# (1) *Shutdown Program*"
   ]
  },
  {
   "cell_type": "code",
   "execution_count": 1,
   "metadata": {},
   "outputs": [
    {
     "name": "stdout",
     "output_type": "stream",
     "text": [
      "Should system shutdown?  no\n",
      "Shutdown aborted\n"
     ]
    }
   ],
   "source": [
    "def shut_down(l):\n",
    "    if l == \"yes\":\n",
    "        print(\"Shutting down\")\n",
    "    elif l == \"Yes\":\n",
    "        print(\"Shutting down\")\n",
    "    elif l == \"no\":\n",
    "        print(\"Shutdown aborted\")\n",
    "    elif l == \"No\":\n",
    "        print(\"Shutdown aborted\")\n",
    "    else:\n",
    "        print(\"Sorry such argument is not welcome\")\n",
    "        \n",
    "shut_down(input(\"Should system shutdown?  \"))"
   ]
  },
  {
   "cell_type": "markdown",
   "metadata": {},
   "source": [
    "# (2) _Employee problem_"
   ]
  },
  {
   "cell_type": "code",
   "execution_count": 2,
   "metadata": {},
   "outputs": [
    {
     "name": "stdout",
     "output_type": "stream",
     "text": [
      "Enter your name: Nifemi\n",
      "Enter your salary: 10000000\n",
      "Enter your name: Nifemi\n",
      "Enter your salary: 15000000\n"
     ]
    },
    {
     "name": "stderr",
     "output_type": "stream",
     "text": [
      "Matplotlib is building the font cache; this may take a moment.\n"
     ]
    },
    {
     "ename": "AttributeError",
     "evalue": "'Styler' object has no attribute 'to_csv'",
     "output_type": "error",
     "traceback": [
      "\u001b[1;31m---------------------------------------------------------------------------\u001b[0m",
      "\u001b[1;31mAttributeError\u001b[0m                            Traceback (most recent call last)",
      "\u001b[1;32m<ipython-input-2-b6bb42e017e8>\u001b[0m in \u001b[0;36m<module>\u001b[1;34m\u001b[0m\n\u001b[0;32m     34\u001b[0m \u001b[1;33m\u001b[0m\u001b[0m\n\u001b[0;32m     35\u001b[0m \u001b[0mdata\u001b[0m \u001b[1;33m=\u001b[0m \u001b[0mFrame\u001b[0m\u001b[1;33m.\u001b[0m\u001b[0mstyle\u001b[0m\u001b[1;33m.\u001b[0m\u001b[0mapply\u001b[0m\u001b[1;33m(\u001b[0m\u001b[0mhighlight\u001b[0m\u001b[1;33m,\u001b[0m\u001b[0maxis\u001b[0m\u001b[1;33m=\u001b[0m\u001b[1;36m1\u001b[0m\u001b[1;33m)\u001b[0m\u001b[1;33m\u001b[0m\u001b[1;33m\u001b[0m\u001b[0m\n\u001b[1;32m---> 36\u001b[1;33m \u001b[0mdata\u001b[0m\u001b[1;33m.\u001b[0m\u001b[0mto_csv\u001b[0m\u001b[1;33m(\u001b[0m\u001b[1;34m\"Employee_register.csv\"\u001b[0m\u001b[1;33m,\u001b[0m \u001b[0mindex\u001b[0m\u001b[1;33m=\u001b[0m\u001b[1;32mFalse\u001b[0m\u001b[1;33m)\u001b[0m\u001b[1;33m\u001b[0m\u001b[1;33m\u001b[0m\u001b[0m\n\u001b[0m",
      "\u001b[1;31mAttributeError\u001b[0m: 'Styler' object has no attribute 'to_csv'"
     ]
    }
   ],
   "source": [
    "import pandas as pd\n",
    "def showEmployee(name, salary):\n",
    "    data = {\"Name\": name, \"Salary\" : salary}\n",
    "    frame = pd.DataFrame(data)\n",
    "    return frame\n",
    "\n",
    "Name = list()\n",
    "Salary = list()\n",
    "for a in range(2):\n",
    "    Name.append(input(\"Enter your name: \"))\n",
    "    Salary.append(int(input(\"Enter your salary: \")))\n",
    "    \n",
    "Frame = showEmployee(Name,Salary)\n",
    "Frame.style.highlight_null(null_color=\"red\")\n",
    "\n",
    "def color(val):\n",
    "    if val > 1000000:\n",
    "        Color = \"green\"\n",
    "    elif val > 500000 and val < 1000000:\n",
    "        Color = \"blue\"\n",
    "    else:\n",
    "        Color = \"red\"\n",
    "    return \"color: %5\" % Color\n",
    "\n",
    "def highlight(value):\n",
    "    if value.Salary > 1000000:\n",
    "        return [\"color: green\"]*2\n",
    "    elif value.Salary > 500000 and value.Salary < 1000000:\n",
    "        return [\"color: blue\"]*2\n",
    "    elif valu.Salary < 500000:\n",
    "        return [\"color: red\"]*2\n",
    "    else:\n",
    "        return [\"color: red\"]*2\n",
    "    \n",
    "data = Frame.style.apply(highlight,axis=1)\n",
    "data.to_csv(\"Employee_register.csv\", index=False)"
   ]
  },
  {
   "cell_type": "markdown",
   "metadata": {},
   "source": [
    "# (3) _Cube problem_"
   ]
  },
  {
   "cell_type": "code",
   "execution_count": null,
   "metadata": {},
   "outputs": [],
   "source": [
    "def cube(number):\n",
    "    x = number**3\n",
    "    return x\n",
    "cube(eval(input(\"What? \")))"
   ]
  },
  {
   "cell_type": "markdown",
   "metadata": {},
   "source": [
    "# (4) _Case calculator_"
   ]
  },
  {
   "cell_type": "code",
   "execution_count": null,
   "metadata": {},
   "outputs": [],
   "source": [
    "def calc(o):\n",
    "    count1 = 0\n",
    "    count2 = 0\n",
    "    for a in o:\n",
    "        if (a.isupper()) == True:\n",
    "            count1 += 1\n",
    "        elif (a.islower()) == True:\n",
    "            count2 += 1\n",
    "    print(\"Upper case letters >>\", count1)\n",
    "    print(\"Lower case letters >>\", count2)\n",
    " \n",
    "calc(input(\"Input string to be analysed:\"))"
   ]
  },
  {
   "cell_type": "code",
   "execution_count": null,
   "metadata": {},
   "outputs": [],
   "source": []
  }
 ],
 "metadata": {
  "kernelspec": {
   "display_name": "Python 3",
   "language": "python",
   "name": "python3"
  },
  "language_info": {
   "codemirror_mode": {
    "name": "ipython",
    "version": 3
   },
   "file_extension": ".py",
   "mimetype": "text/x-python",
   "name": "python",
   "nbconvert_exporter": "python",
   "pygments_lexer": "ipython3",
   "version": "3.8.5"
  }
 },
 "nbformat": 4,
 "nbformat_minor": 4
}
