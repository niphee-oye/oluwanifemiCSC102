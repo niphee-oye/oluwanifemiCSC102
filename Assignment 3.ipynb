{
 "cells": [
  {
   "cell_type": "markdown",
   "metadata": {},
   "source": [
    "# Program to find roots of quadratic equation"
   ]
  },
  {
   "cell_type": "code",
   "execution_count": 7,
   "metadata": {},
   "outputs": [
    {
     "name": "stdout",
     "output_type": "stream",
     "text": [
      "Input a: 1\n",
      "Input b: -5\n",
      "Input c: 2\n",
      "1.0\n",
      "-2.0\n"
     ]
    }
   ],
   "source": [
    "import math\n",
    "a = eval(input(\"Input a: \"))\n",
    "b = eval(input(\"Input b: \"))\n",
    "c = eval(input(\"Input c: \"))\n",
    "\n",
    "x_0 = ((b)^2 - (4*a*c))\n",
    "if x_0 < 0:\n",
    "    print(\"Problem has a complex result, I can't continue😋.\")\n",
    "x_1 = math.sqrt((x_0))\n",
    "\n",
    "numer_1 = (b) + (x_1)\n",
    "root_1 = (numer_1)/(2*a)\n",
    "print(root_1)"
   ]
  },
  {
   "cell_type": "code",
   "execution_count": null,
   "metadata": {},
   "outputs": [],
   "source": []
  }
 ],
 "metadata": {
  "kernelspec": {
   "display_name": "Python 3",
   "language": "python",
   "name": "python3"
  },
  "language_info": {
   "codemirror_mode": {
    "name": "ipython",
    "version": 3
   },
   "file_extension": ".py",
   "mimetype": "text/x-python",
   "name": "python",
   "nbconvert_exporter": "python",
   "pygments_lexer": "ipython3",
   "version": "3.8.5"
  }
 },
 "nbformat": 4,
 "nbformat_minor": 4
}
