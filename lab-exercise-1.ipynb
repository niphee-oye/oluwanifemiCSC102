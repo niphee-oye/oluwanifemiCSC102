{
 "cells": [
  {
   "cell_type": "markdown",
   "metadata": {},
   "source": [
    "# Oluwanifemi OYEWOLE"
   ]
  },
  {
   "cell_type": "markdown",
   "metadata": {},
   "source": [
    "\n",
    "MATRICULATION NUMBER: *2012061083*\n",
    "\n",
    "EMAIL: oluwanifemi.oyewole@pau.edu.ng\n",
    "\n",
    "Exercise Description: **Programming**"
   ]
  },
  {
   "cell_type": "markdown",
   "metadata": {},
   "source": [
    "<img src= \"cover.jpg\">"
   ]
  },
  {
   "cell_type": "markdown",
   "metadata": {},
   "source": [
    "# Exercise I"
   ]
  },
  {
   "cell_type": "markdown",
   "metadata": {},
   "source": [
    "*The program below finds the difference beteen a given number and 17. If the number is greater than 17, their difference is doubled, but if the given number is less than 17, the output is the absolute value of the operation.*"
   ]
  },
  {
   "cell_type": "code",
   "execution_count": 4,
   "metadata": {},
   "outputs": [
    {
     "name": "stdout",
     "output_type": "stream",
     "text": [
      "Given number #1 is? >>>14\n",
      "3\n"
     ]
    }
   ],
   "source": [
    "a = eval(input(\"Given number #1 is? >>>\"))\n",
    "c = 17\n",
    "x = a - c\n",
    "if a > c:\n",
    "    d = 2 * x\n",
    "    print(d)\n",
    "if a < c:\n",
    "    e = x * (-1)\n",
    "    print(e)"
   ]
  },
  {
   "cell_type": "markdown",
   "metadata": {},
   "source": [
    "# Exercise II"
   ]
  },
  {
   "cell_type": "markdown",
   "metadata": {},
   "source": [
    "*The program below adds three numbers and muliplies the result by three(3) if the three numbers are the same.\n",
    "If the numbers are different, the values are simply added.*"
   ]
  },
  {
   "cell_type": "code",
   "execution_count": 6,
   "metadata": {},
   "outputs": [
    {
     "name": "stdout",
     "output_type": "stream",
     "text": [
      "Given number #1 is? >>>3\n",
      "Given number #2 is? >>>3\n",
      "Given number #3 is? >>>3\n",
      "27\n"
     ]
    }
   ],
   "source": [
    "a = eval(input(\"Given number #1 is? >>>\"))\n",
    "b = eval(input(\"Given number #2 is? >>>\"))\n",
    "c = eval(input(\"Given number #3 is? >>>\"))\n",
    "\n",
    "if a==b==c:\n",
    "    d = (a + b + c) \n",
    "    e =  (a + b + c) * 3\n",
    "    print(e)\n",
    "    \n",
    "else:\n",
    "    d = (a + b + c) \n",
    "    print(d)"
   ]
  },
  {
   "cell_type": "markdown",
   "metadata": {},
   "source": [
    "# Exercise III"
   ]
  },
  {
   "cell_type": "markdown",
   "metadata": {},
   "source": [
    "*This program checks if two values are equal, then it prints TRUE if so. If their sum or difference is equal to five(5) TRUE is printed as well*"
   ]
  },
  {
   "cell_type": "code",
   "execution_count": 13,
   "metadata": {},
   "outputs": [
    {
     "name": "stdout",
     "output_type": "stream",
     "text": [
      "Given number #1 is? >>>23\n",
      "Given number #2 is? >>>23\n",
      "True\n"
     ]
    }
   ],
   "source": [
    "a = eval(input(\"Given number #1 is? >>>\"))\n",
    "b = eval(input(\"Given number #2 is? >>>\"))\n",
    "if a == b:\n",
    "    print(\"True\")\n",
    "if a - b == 5:\n",
    "    print(\"True\")\n",
    "if a + b == 5:\n",
    "    print(\"True\")\n",
    "#else:\n",
    "#    print(\"None of the conditions are met.\")"
   ]
  },
  {
   "cell_type": "markdown",
   "metadata": {},
   "source": [
    "# Exercise IV"
   ]
  },
  {
   "cell_type": "markdown",
   "metadata": {},
   "source": [
    "*This is a program to sort integers without using loops or conditional statement*"
   ]
  },
  {
   "cell_type": "code",
   "execution_count": 26,
   "metadata": {},
   "outputs": [
    {
     "name": "stdout",
     "output_type": "stream",
     "text": [
      "Given number #1 is? >>>3\n",
      "Given number #2 is? >>>4\n",
      "Given number #3 is? >>>5\n",
      "(3, 4, 5)\n",
      "4\n"
     ]
    }
   ],
   "source": [
    "a = eval(input(\"Given number #1 is? >>>\"))\n",
    "b = eval(input(\"Given number #2 is? >>>\"))\n",
    "c = eval(input(\"Given number #3 is? >>>\"))\n",
    "g = (a,b,c)\n",
    "print(g)\n",
    "sum(g)\n",
    "max(g)\n",
    "min(g)\n",
    "d = a + b + c\n",
    "mid = d - max(g) - min(g)\n",
    "print(mid)"
   ]
  },
  {
   "cell_type": "markdown",
   "metadata": {},
   "source": [
    "# Exercise V\n",
    "\n",
    "*This is a function that takes a positive integer and returns the sum of the cube of all the positive integers smaller than the specified number.*"
   ]
  },
  {
   "cell_type": "code",
   "execution_count": 2,
   "metadata": {},
   "outputs": [
    {
     "name": "stdout",
     "output_type": "stream",
     "text": [
      "Input a positive integer. 6\n",
      "225\n"
     ]
    }
   ],
   "source": [
    "def cube(val):\n",
    "    lower = range(0,val)\n",
    "    out = 0\n",
    "    for num in lower:\n",
    "        out += (num**3)\n",
    "    return out\n",
    "val = eval(input(\"Input a positive integer. \"))\n",
    "if val > 0:\n",
    "    print(cube(val))\n",
    "else:\n",
    "    print(\"Input a positive integer\")"
   ]
  }
 ],
 "metadata": {
  "kernelspec": {
   "display_name": "Python 3",
   "language": "python",
   "name": "python3"
  },
  "language_info": {
   "codemirror_mode": {
    "name": "ipython",
    "version": 3
   },
   "file_extension": ".py",
   "mimetype": "text/x-python",
   "name": "python",
   "nbconvert_exporter": "python",
   "pygments_lexer": "ipython3",
   "version": "3.8.5"
  }
 },
 "nbformat": 4,
 "nbformat_minor": 4
}
